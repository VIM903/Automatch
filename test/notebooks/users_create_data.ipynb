{
 "cells": [
  {
   "cell_type": "markdown",
   "metadata": {},
   "source": [
    "Creación de una base de datos con todas las posibles combinaciones de diferentes usuarios. El usuario tiene que contestar una serie de preguntas, que creará un perfil. \n",
    "\n",
    "Las preguntas son:\n",
    "\n",
    "1. ¿Cúal es tu renta anual? -12000, 12000 - 20000, 20000 - 35000, 35000-60000, 60000 - 100000, + 100000. \n",
    "2. ¿Cuales son las condiciones habituales de conducción?  buen clima, nieve, off-road.\n",
    "3. ¿Donde son tus vacaciones ideales? Playa / Montaña / Ciudad\n",
    "4. ¿En qué sector trabajas? : Tecnología / Salud / Energía / Servicios Financieros / Industria, Construccion y Manufactura / Comercio / Entretenimiento y Medios / Educación / Transporte y Logística / Turismo y Ocio / Otros\n",
    "5. ¿En qué comunidad autónoma vives? Andalucía / Aragón / Asturias / Islas Baleares  / Canarias / Cantabria / Castilla y León / Castilla-La Mancha / Cataluña / Extremadura / Galicia / Madrid / Murcia / Navarra / La Rioja / País Vasco / Comunidad Valencina / Ceuta / Melilla\n",
    "6. ¿Tienes familia? no / Si, familia pequeña / Si, familia grande\n",
    "7. ¿Tienes preferencia en el tipo de combustible? diesel, gasolina, híbrido, eléctrico.\n",
    "8. ¿Cuál es el uso habitual que haces del vehículo? Diario, semanal, ocasional\n",
    "9. ¿Prefieres coche manual o automático? Manual / Automatico\n",
    "10. ¿Tienes plaza de parking? Si / No\n",
    "11. Experiencia de conducciín? Novato, intermedio, experto (añadidas por Pablo)\n"
   ]
  },
  {
   "cell_type": "code",
   "execution_count": 1,
   "metadata": {},
   "outputs": [],
   "source": [
    "import csv\n",
    "import random\n",
    "from itertools import product"
   ]
  },
  {
   "cell_type": "code",
   "execution_count": null,
   "metadata": {},
   "outputs": [
    {
     "name": "stdout",
     "output_type": "stream",
     "text": [
      "Archivo usuarios_pesos.csv creado con encabezados.\n",
      "5000 combinaciones añadidas al archivo usuarios_pesos.csv.\n"
     ]
    }
   ],
   "source": [
    "import csv\n",
    "import random\n",
    "from itertools import product\n",
    "\n",
    "def crear_csv():\n",
    "    # Nombre del archivo CSV\n",
    "    archivo_csv = \"usuarios_pesos.csv\"\n",
    "\n",
    "    # Crear el archivo con encabezados si no existe\n",
    "    with open(archivo_csv, mode=\"w\", newline=\"\", encoding=\"utf-8\") as archivo:\n",
    "        escritor = csv.writer(archivo)\n",
    "        escritor.writerow([\"id\", \"renta\", \"condiciones_conduccion\",'vacaciones', 'sector', 'comunidad_autonoma',\"familia\", \"tipo_combustible\", \"uso_habitual\", 'cambio', \"plaza_parking\"])\n",
    "\n",
    "    print(f\"Archivo {archivo_csv} creado con encabezados.\")\n",
    "\n",
    "def generar_combinaciones(k):\n",
    "\n",
    "    # Posibles respuestas\n",
    "    renta_anual = ['- 12000', '12000 - 20000', '20000 - 35000', '35000-60000', '60000 - 100000', '+ 100000']\n",
    "    condiciones_conduccion = [\"buen clima\", \"nieve\", \"off-road\"]\n",
    "    vacaciones_ideales = ['playa', 'montaña', 'ciudad']\n",
    "    sector_trabajo = ['Tecnología', 'Salud', 'Energía', 'Servicios Financieros', 'Industria Construccion y Manufactura',\n",
    "                      'Comercio', 'Entretenimiento y Medios', 'Educación', 'Transporte y Logística', 'Turismo y Ocio', 'Otros']\n",
    "    comunidad_autonoma = ['Andalucía', 'Aragón', 'Asturias', 'Baleares', 'Canarias', 'Cantabria', 'Castilla y León',\n",
    "                           'Castilla-La Mancha', 'Cataluña', 'Extremadura', 'Galicia', 'Madrid', 'Murcia', 'Navarra', \n",
    "                           'La Rioja', 'País Vasco', 'Valencia', 'Ceuta', 'Melilla']\n",
    "    n_familia = ['No', 'Si, pequeña', 'Si, grande']\n",
    "    tipos_combustible = [\"diesel\", \"gasolina\", \"hibrido\", \"electrico\"]\n",
    "    frecuencia_uso = [\"diario\", \"semanal\", \"ocasional\"]\n",
    "    caja_cambios = [\"Manual\", \"Automatico\"]\n",
    "    plaza_parking = [\"Si\", \"No\"]\n",
    "\n",
    "    # Probabilidades asociadas (pesos) - \n",
    "    pesos_renta_anual = [0.1, 0.2, 0.3, 0.2, 0.15, 0.05]\n",
    "    pesos_condiciones_conduccion = [0.7, 0.2, 0.1]\n",
    "    pesos_vacaciones_ideales = [0.2, 0.5, 0.3]\n",
    "    pesos_sector_trabajo = [0.2, 0.15, 0.1, 0.1, 0.1, 0.1, 0.05, 0.05, 0.05, 0.05, 0.05 ]\n",
    "    pesos_comunidad_autonoma = [0.18, 0.16, 0.14, 0.11, 0.06 ,0.05, 0.04, 0.05, 0.03, 0.05, 0.03, 0.02, 0.03, 0.02, 0.01, 0.01, 0.01, 0, 0]\n",
    "    pesos_familia = [0.2, 0.5, 0.3]\n",
    "    pesos_tipos_combustible = [0.5, 0.3, 0.1, 0.1]\n",
    "    pesos_frecuencia_uso = [0.5, 0.4, 0.1]\n",
    "    pesos_caja_cambios = [0.7, 0.3]\n",
    "    pesos_plaza_parking = [0.6, 0.4]\n",
    "\n",
    "\n",
    "    # Ajustar las combinaciones según los pesos (esto puede hacerse seleccionando aleatoriamente cada categoría usando pesos)\n",
    "    combinaciones_ajustadas = []\n",
    "    for _ in range(k):\n",
    "        renta = random.choices(renta_anual, pesos_renta_anual)[0]\n",
    "        condicion_conduccion = random.choices(condiciones_conduccion, pesos_condiciones_conduccion)[0]\n",
    "        vacaciones = random.choices(vacaciones_ideales, pesos_vacaciones_ideales)[0]\n",
    "        sector = random.choices(sector_trabajo, pesos_sector_trabajo)[0]\n",
    "        comunidad = random.choices(comunidad_autonoma, pesos_comunidad_autonoma)[0]\n",
    "        familia = random.choices(n_familia, pesos_familia)[0]\n",
    "        combustible = random.choices(tipos_combustible, pesos_tipos_combustible)[0]\n",
    "        uso = random.choices(frecuencia_uso, pesos_frecuencia_uso)[0]\n",
    "        cambio = random.choices(caja_cambios, pesos_caja_cambios)[0]\n",
    "        parking = random.choices(plaza_parking, pesos_plaza_parking)[0]\n",
    "\n",
    "        combinaciones_ajustadas.append((renta, condicion_conduccion, vacaciones, sector, comunidad, familia, combustible, uso, cambio, parking))\n",
    "\n",
    "    return combinaciones_ajustadas\n",
    "\n",
    "\n",
    "\n",
    "def insertar_combinaciones_csv(combinaciones):\n",
    "    # Nombre del archivo CSV\n",
    "    archivo_csv = \"usuarios_pesos.csv\"\n",
    "\n",
    "    # Añadir todas las combinaciones al archivo\n",
    "    with open(archivo_csv, mode=\"a\", newline=\"\", encoding=\"utf-8\") as archivo:\n",
    "        escritor = csv.writer(archivo)\n",
    "        for id_nuevo, combinacion in enumerate(combinaciones, start=1):\n",
    "            escritor.writerow([id_nuevo, *combinacion])\n",
    "\n",
    "    print(f\"{len(combinaciones)} combinaciones añadidas al archivo {archivo_csv}.\")\n",
    "\n",
    "if __name__ == \"__main__\":\n",
    "    crear_csv()\n",
    "\n",
    "    # Generar todas las combinaciones ajustadas\n",
    "    combinaciones = generar_combinaciones(5000)\n",
    "\n",
    "    # Insertar las combinaciones en el archivo CSV\n",
    "    insertar_combinaciones_csv(combinaciones)\n"
   ]
  }
 ],
 "metadata": {
  "kernelspec": {
   "display_name": "conda310",
   "language": "python",
   "name": "python3"
  },
  "language_info": {
   "codemirror_mode": {
    "name": "ipython",
    "version": 3
   },
   "file_extension": ".py",
   "mimetype": "text/x-python",
   "name": "python",
   "nbconvert_exporter": "python",
   "pygments_lexer": "ipython3",
   "version": "3.10.13"
  }
 },
 "nbformat": 4,
 "nbformat_minor": 2
}
