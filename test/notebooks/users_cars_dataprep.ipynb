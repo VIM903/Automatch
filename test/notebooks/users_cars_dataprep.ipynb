{
 "cells": [
  {
   "cell_type": "code",
   "execution_count": 1,
   "metadata": {},
   "outputs": [],
   "source": [
    "import pandas as pd\n",
    "import numpy as np\n",
    "import matplotlib.pyplot as plt\n",
    "import seaborn as sns"
   ]
  },
  {
   "cell_type": "markdown",
   "metadata": {},
   "source": [
    "# Preparación del dato"
   ]
  },
  {
   "cell_type": "markdown",
   "metadata": {},
   "source": [
    "Actulemente tenemos un listado de usuarios con el coche al que les vamos a asignar el target = 1, ya que entendemos que es un coche que le gusta. Después, vamos a añadir cada usuario otras 10 veces con un coche diferente al que tiene actualmente y ponerle target = 0."
   ]
  },
  {
   "cell_type": "code",
   "execution_count": 2,
   "metadata": {},
   "outputs": [],
   "source": [
    "df = pd.read_csv(\"../../artifacts/data/aggregated_users_cars.csv\")"
   ]
  },
  {
   "cell_type": "code",
   "execution_count": 3,
   "metadata": {},
   "outputs": [],
   "source": [
    "#añadir la columna target = 1 para estos coches que son los que tienen los usuarios:\n",
    "df['target'] = 1"
   ]
  },
  {
   "cell_type": "code",
   "execution_count": 4,
   "metadata": {},
   "outputs": [
    {
     "data": {
      "text/plain": [
       "['customer_id',\n",
       " 'renta',\n",
       " 'condiciones_conduccion',\n",
       " 'vacaciones',\n",
       " 'sector',\n",
       " 'comunidad_autonoma',\n",
       " 'familia',\n",
       " 'tipo_combustible',\n",
       " 'uso_habitual',\n",
       " 'cambio',\n",
       " 'plaza_parking',\n",
       " 'frecuencia_uso',\n",
       " 'experiencia_conduccion',\n",
       " 'car_id',\n",
       " 'Maker',\n",
       " 'Version',\n",
       " 'Price',\n",
       " 'Year',\n",
       " 'Kms',\n",
       " 'Potencia',\n",
       " 'Caja_velocidades',\n",
       " 'presupuesto',\n",
       " 'tipo_combustible.1',\n",
       " 'Puertas',\n",
       " 'Plazas',\n",
       " 'Marca',\n",
       " 'target']"
      ]
     },
     "execution_count": 4,
     "metadata": {},
     "output_type": "execute_result"
    }
   ],
   "source": [
    "df.columns.tolist()"
   ]
  },
  {
   "cell_type": "code",
   "execution_count": 5,
   "metadata": {},
   "outputs": [
    {
     "name": "stdout",
     "output_type": "stream",
     "text": [
      "   customer_id           renta condiciones_conduccion vacaciones  \\\n",
      "0         2610  60000 - 100000                  nieve     ciudad   \n",
      "1         4614   20000 - 35000             buen clima      playa   \n",
      "2         2461   20000 - 35000                  nieve    montaña   \n",
      "3          795     35000-60000                  nieve      playa   \n",
      "4         2955          -12000                  nieve    montaña   \n",
      "\n",
      "                   sector comunidad_autonoma      familia tipo_combustible  \\\n",
      "0              Tecnología             Aragón  Si, pequeña           diesel   \n",
      "1                   Salud            Galicia   Si, grande        electrico   \n",
      "2  Transporte y Logística        Extremadura  Si, pequeña        electrico   \n",
      "3                Comercio           Cataluña  Si, pequeña        electrico   \n",
      "4                Comercio           Baleares  Si, pequeña         gasolina   \n",
      "\n",
      "               uso_habitual      cambio  ...  Year        Kms Potencia  \\\n",
      "0   uso particular habitual      Manual  ...  2021   63.037km    165CV   \n",
      "1   uso particular habitual      Manual  ...  2019  139.240km    120CV   \n",
      "2   uso particular habitual      Manual  ...  2020  111.340km    190CV   \n",
      "3   uso particular habitual  Automatico  ...  2023   22.396km    130CV   \n",
      "4  uso particular ocasional  Automatico  ...  2023   35.935km    130CV   \n",
      "\n",
      "   Caja_velocidades    presupuesto tipo_combustible.1  Puertas  Plazas  \\\n",
      "0        Automatico  15,000-20,000           Gasolina        4       4   \n",
      "1            Manual  10,000-15,000             Diesel        4       5   \n",
      "2        Automatico  20,000-30,000             Diesel        4       5   \n",
      "3        Automatico  20,000-30,000            Hibrido        4       5   \n",
      "4        Automatico  20,000-30,000            Hibrido        4       5   \n",
      "\n",
      "    Marca target  \n",
      "0  Abarth      1  \n",
      "1    Alfa      1  \n",
      "2    Alfa      1  \n",
      "3    Alfa      1  \n",
      "4    Alfa      1  \n",
      "\n",
      "[5 rows x 27 columns]\n"
     ]
    }
   ],
   "source": [
    "\n",
    "\n",
    "# DataFrame de usuarios únicos\n",
    "df_usuarios = df[['customer_id', 'renta', 'condiciones_conduccion', 'vacaciones', 'sector', 'comunidad_autonoma', 'familia', \n",
    "                  'tipo_combustible', 'uso_habitual', 'cambio', 'plaza_parking', 'frecuencia_uso', 'experiencia_conduccion', 'car_id']].drop_duplicates()\n",
    "\n",
    "# DataFrame con información de los coches\n",
    "df_coches = df[['car_id', 'Maker', 'Version', 'Price', 'Year', 'Kms', 'Potencia', 'Caja_velocidades', 'presupuesto', \n",
    "                'tipo_combustible.1', 'Puertas', 'Plazas', 'Marca']]\n",
    "\n",
    "# Lista para guardar los usuarios duplicados\n",
    "usuarios_duplicados = []\n",
    "\n",
    "# Para cada usuario único\n",
    "for _, usuario in df_usuarios.iterrows():\n",
    "    # Obtener el coche preferido del usuario\n",
    "    coche_preferido = usuario['car_id']\n",
    "    \n",
    "    # Filtrar todos los coches que no son el preferido del usuario\n",
    "    coches_disponibles = df_coches[df_coches['car_id'] != coche_preferido]\n",
    "    \n",
    "    # Crear 10 duplicados del usuario con diferentes coches y target = 0\n",
    "    for _ in range(10):\n",
    "        # Elegir un coche aleatorio de los disponibles\n",
    "        coche_random = coches_disponibles.sample(n=1).iloc[0]  # Obtener un solo coche aleatorio\n",
    "        \n",
    "        # Crear un nuevo registro con target = 0\n",
    "        nuevo_usuario = usuario.copy()\n",
    "        nuevo_usuario['car_id'] = coche_random['car_id']\n",
    "        nuevo_usuario['target'] = 0  # Asignar target = 0 para los duplicados\n",
    "        \n",
    "        # Añadir las columnas del coche elegido al nuevo registro\n",
    "        nuevo_usuario['Maker'] = coche_random['Maker']\n",
    "        nuevo_usuario['Version'] = coche_random['Version']\n",
    "        nuevo_usuario['Price'] = coche_random['Price']\n",
    "        nuevo_usuario['Year'] = coche_random['Year']\n",
    "        nuevo_usuario['Kms'] = coche_random['Kms']\n",
    "        nuevo_usuario['Potencia'] = coche_random['Potencia']\n",
    "        nuevo_usuario['Caja_velocidades'] = coche_random['Caja_velocidades']\n",
    "        nuevo_usuario['presupuesto'] = coche_random['presupuesto']\n",
    "        nuevo_usuario['tipo_combustible.1'] = coche_random['tipo_combustible.1']\n",
    "        nuevo_usuario['Puertas'] = coche_random['Puertas']\n",
    "        nuevo_usuario['Plazas'] = coche_random['Plazas']\n",
    "        nuevo_usuario['Marca'] = coche_random['Marca']\n",
    "        \n",
    "        # Agregar el nuevo registro a la lista de duplicados\n",
    "        usuarios_duplicados.append(nuevo_usuario)\n",
    "\n",
    "# Convertir los duplicados a DataFrame\n",
    "df_usuarios_duplicados = pd.DataFrame(usuarios_duplicados)\n",
    "\n",
    "# Concatenar el DataFrame original con los duplicados creados\n",
    "df_final = pd.concat([df, df_usuarios_duplicados], ignore_index=True)\n",
    "\n",
    "# Ver el resultado final\n",
    "print(df_final.head())\n",
    "\n"
   ]
  },
  {
   "cell_type": "code",
   "execution_count": 6,
   "metadata": {},
   "outputs": [],
   "source": [
    "#\n",
    "df_final.to_csv('C:/Users/swatc/Desktop/UNI/Proyecto grupal/Automatch/artifacts/data/modelo_users_cars.csv', index=False)\n"
   ]
  },
  {
   "cell_type": "code",
   "execution_count": 32,
   "metadata": {},
   "outputs": [
    {
     "data": {
      "text/plain": [
       "customer_id               0\n",
       "renta                     0\n",
       "condiciones_conduccion    0\n",
       "vacaciones                0\n",
       "sector                    0\n",
       "comunidad_autonoma        0\n",
       "familia                   0\n",
       "tipo_combustible          0\n",
       "uso_habitual              0\n",
       "cambio                    0\n",
       "plaza_parking             0\n",
       "frecuencia_uso            0\n",
       "experiencia_conduccion    0\n",
       "car_id                    0\n",
       "Maker                     0\n",
       "Version                   0\n",
       "Price                     0\n",
       "Year                      0\n",
       "Kms                       0\n",
       "Potencia                  0\n",
       "Caja_velocidades          0\n",
       "presupuesto               0\n",
       "tipo_combustible.1        0\n",
       "Puertas                   0\n",
       "Plazas                    0\n",
       "Marca                     0\n",
       "target                    0\n",
       "dtype: int64"
      ]
     },
     "execution_count": 32,
     "metadata": {},
     "output_type": "execute_result"
    }
   ],
   "source": [
    "df_final.isnull().sum()"
   ]
  }
 ],
 "metadata": {
  "kernelspec": {
   "display_name": ".venv",
   "language": "python",
   "name": "python3"
  },
  "language_info": {
   "codemirror_mode": {
    "name": "ipython",
    "version": 3
   },
   "file_extension": ".py",
   "mimetype": "text/x-python",
   "name": "python",
   "nbconvert_exporter": "python",
   "pygments_lexer": "ipython3",
   "version": "3.13.0"
  }
 },
 "nbformat": 4,
 "nbformat_minor": 2
}
